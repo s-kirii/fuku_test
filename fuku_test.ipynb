{
 "cells": [
  {
   "cell_type": "code",
   "execution_count": 1,
   "id": "51793fa2",
   "metadata": {},
   "outputs": [
    {
     "name": "stderr",
     "output_type": "stream",
     "text": [
      "INFO:root:{'info': 'Take balls...'}\n",
      "INFO:root:{'info': 'Lose'}\n"
     ]
    }
   ],
   "source": [
    "import sys\n",
    "sys.path.append(\"../fukubiki\")\n",
    "from fukubiki import box\n",
    "\n",
    "test = box()\n",
    "test.pick_ball()"
   ]
  },
  {
   "cell_type": "code",
   "execution_count": null,
   "id": "e382c65c",
   "metadata": {},
   "outputs": [],
   "source": []
  }
 ],
 "metadata": {
  "kernelspec": {
   "display_name": "Python 3 (ipykernel)",
   "language": "python",
   "name": "python3"
  },
  "language_info": {
   "codemirror_mode": {
    "name": "ipython",
    "version": 3
   },
   "file_extension": ".py",
   "mimetype": "text/x-python",
   "name": "python",
   "nbconvert_exporter": "python",
   "pygments_lexer": "ipython3",
   "version": "3.9.12"
  }
 },
 "nbformat": 4,
 "nbformat_minor": 5
}
